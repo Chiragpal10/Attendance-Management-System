import pymysql as sql

from datetime import date

print('''
Hello, Sir 
Welcome TO Attendance System

you have to login for update details

''')

pas= input("Enter password for attendance system")

if pas== "chiragducat":
    
    con = sql.connect(
        host = "localhost",
        user = "root",
        password = "121001",
        database = "project1"
    )

    cur = con.cursor()

    def addst():
        name= input("Enter Name").title()
        bid = int(input("Enter Batch id"))
        cur.execute("INSERT INTO student (name,bid) VALUES (%s, %s)",
                   (name, bid))
        con.commit()
        print("Student Added")

    def addc():
        bname = input("Enter Batch name")
        cur.execute("INSERT INTO batch (BName) VALUES (%s)",
                   (bname))
        con.commit()
        print("Batch Added")


    def mattends():
        sid = int(input("Enter student id"))
        bid = int(input("Enter Batch id"))
        status = input("Enter only 'present / absent'").lower()
        dat = input("Enter date in format (yyyy-mm-dd) or blank for today date")
        if not dat:
            dat= date.today()

        cur.execute("select sid,date,bid from attendance")
        sd = cur.fetchall()
        if sd:
            for i in sd:
                s,d,b = i
                if sid == s and dat==d and bid == b:
                    print("attendance already added")
                    return
                    # cur.execute(f"delete from attendance where sid = {s} and bid = {b}")
                    # con.commit()
                else:
                    
                    cur.execute("INSERT INTO attendance (sid,bid, status,date) VALUES (%s,%s,%s,%s)",
                                       (sid,bid,status,dat))
                    con.commit()
                    print("attendance added")
                    return

        else:
            cur.execute("INSERT INTO attendance (sid,bid, status,date) VALUES (%s,%s,%s,%s)",
                                (sid,bid,status,dat))
            con.commit()
            print("attendance added")
    def mattendall():
        bid = int(input("Enter batch Id"))
        dat= input("Enter date in yyyy-mm-dd format or leave blank for today date")
        if not dat:
            dat= date.today()

        cur.execute("select sid,name from student")
        students = cur.fetchall()
        print(f"\n\n Marking Attendance for batch id {bid} students on {dat} ")

        for student in students:
            stid, sname = student
            status = input(f"Student id {stid}-{sname} : present/absent").strip().lower()
            cur.execute("INSERT INTO attendance (sid,bid, status,date) VALUES (%s,%s,%s,%s)",
                           (stid,bid,status,dat))
        con.commit()
        print("Attendance Added")


    def vattend():
        sid = int(input("Enter student id"))
    
        cur.execute(f'''select  s.Name , b.BName , count(a.status) from attendance a
        join batch b on a.bid = b.bid
        join student s on a.sid = s.sid
        where status = 'Present' and s.sid = {sid}
        GROUP by s.sid ,s.name, b.BName''')
        
        row = cur.fetchall()

        if row:
            for i in row:
                print(f"Student Name : {i[0]} -- Batch Name : {i[1]} -- Present Days : {i[2]}")
        else:
            print("Not Available")
    def attendreport():
        bid = int(input("Enter Batch id"))
    
        cur.execute(f'''select  s.sid ,s.Name , count(distinct a.date) Total_Days , sum(a.status='present') Present_Days from attendance a
        join student s on a.sid = s.sid
        where a.bid= {bid}
        GROUP by s.sid ,s.name
        ''')
    
        row = cur.fetchall()
        if row:
            for i in row:
                print(f"Student Id : {i[0]} -- Student Name : {i[1]} -- Total Days : {i[2]} -- Present Days : {i[3]} -- Attendance %age : {(i[3]/i[2])*100}")
        else:
            print("Not Available")
        
    def delst():
        sid = int(input("Enter student id for delete"))
        cur.execute(f"delete from attendance where sid = {sid}")
        cur.execute(f"delete from student where sid = {sid}")
        con.commit()
        print("Student Removed")


    while True :
        print("\n\n=====================================================")
        print("\n\n===== Attendance Management System =====")
        print("1. Add Student")
        print("2. Add Batch")
        print("3. Mark Attendance (Single)")
        print("4. Mark Attendance (All Students)")
        print("5. View Attendance")
        print("6. Generate Report (Batch)")
        print("7. Delete Student")
        print("8. Exit")
        try:
            x= int(input("Enter your choice"))
        except ValueError:
            print("Enter Only Integer")

        if x == 1:
            addst()
        elif x == 2:
            addc()
        elif x == 3:
            mattends()
        elif x == 4:
            mattendall()
        elif x == 5:
            vattend()
        elif x == 6:
            attendreport()
        elif x == 7:
            delst()
        elif x == 8:
            print("Bye")
            break
        else:
            print("Enter Correct no.")

else:
    print("Enter correct password")
